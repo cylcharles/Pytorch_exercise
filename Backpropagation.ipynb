{
 "cells": [
  {
   "cell_type": "code",
   "execution_count": 1,
   "metadata": {},
   "outputs": [],
   "source": [
    "class mul_layer():\n",
    "  def __init__(self):\n",
    "    self.x = None\n",
    "    self.y = None\n",
    "    \n",
    "  def forward(self, x, y):\n",
    "    self.x = x\n",
    "    self.y = y\n",
    "    out = x * y\n",
    "    return out\n",
    "\n",
    "  def backward(self, dout):\n",
    "    dx = dout * self.y\n",
    "    dy = dout * self.x\n",
    "    return dx, dy"
   ]
  },
  {
   "cell_type": "code",
   "execution_count": null,
   "metadata": {},
   "outputs": [],
   "source": [
    "apple_num = 2\n",
    "apple_price = 100\n",
    "tax = 1.1\n",
    "\n",
    "apple_price_layer = mul_layer()\n",
    "tax_layer = mul_layer()"
   ]
  },
  {
   "cell_type": "code",
   "execution_count": null,
   "metadata": {},
   "outputs": [],
   "source": [
    "# Forward\n",
    "apple_total_price = apple_price_layer.forward(apple_num, apple_price)\n",
    "price = tax_layer.forward(apple_total_price, tax)\n",
    "apple_total_price"
   ]
  },
  {
   "cell_type": "code",
   "execution_count": null,
   "metadata": {},
   "outputs": [],
   "source": [
    "# Backward\n",
    "\n",
    "#多一顆橘子對總金額的影響\n",
    "#橘子價錢多1元對結帳金額的影響\n",
    "#多收1倍的稅金對結帳金額的影響\n",
    "\n",
    "dapple_price, d_tax =  tax_layer.backward(1)\n",
    "dapple_num, dapple_price = apple_price_layer.backward(dapple_price)\n",
    "print(\"多一顆橘子結帳金額的影響 %.2f\" %dapple_num)\n",
    "print(\"多一元結帳金額的影響 %.2f\" %dapple_price)\n",
    "print(\"稅金多1倍結帳金額的影響 %.2f\" %d_tax)"
   ]
  }
 ],
 "metadata": {
  "kernelspec": {
   "display_name": "Python 3",
   "language": "python",
   "name": "python3"
  },
  "language_info": {
   "codemirror_mode": {
    "name": "ipython",
    "version": 3
   },
   "file_extension": ".py",
   "mimetype": "text/x-python",
   "name": "python",
   "nbconvert_exporter": "python",
   "pygments_lexer": "ipython3",
   "version": "3.7.5"
  }
 },
 "nbformat": 4,
 "nbformat_minor": 2
}
