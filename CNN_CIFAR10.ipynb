{
 "cells": [
  {
   "cell_type": "code",
   "execution_count": 2,
   "metadata": {},
   "outputs": [],
   "source": [
    "import torch\n",
    "import torchvision\n",
    "import torchvision.transforms as transforms"
   ]
  },
  {
   "cell_type": "code",
   "execution_count": 3,
   "metadata": {},
   "outputs": [
    {
     "name": "stdout",
     "output_type": "stream",
     "text": [
      "Files already downloaded and verified\n",
      "Files already downloaded and verified\n"
     ]
    }
   ],
   "source": [
    "transform = transforms.Compose(\n",
    "    [transforms.ToTensor(),\n",
    "     transforms.Normalize((0.5, 0.5, 0.5), (0.5, 0.5, 0.5))])\n",
    "\n",
    "trainset = torchvision.datasets.CIFAR10(root='./data', train=True,\n",
    "                                        download=True, transform=transform)\n",
    "trainloader = torch.utils.data.DataLoader(trainset, batch_size=8,\n",
    "                                          shuffle=True, num_workers=2)\n",
    "\n",
    "testset = torchvision.datasets.CIFAR10(root='./data', train=False,\n",
    "                                       download=True, transform=transform)\n",
    "testloader = torch.utils.data.DataLoader(testset, batch_size=8,\n",
    "                                         shuffle=False, num_workers=2)\n",
    "\n",
    "classes = ('plane', 'car', 'bird', 'cat', 'deer', 'dog', 'frog', 'horse', 'ship', 'truck')"
   ]
  },
  {
   "cell_type": "code",
   "execution_count": 4,
   "metadata": {},
   "outputs": [
    {
     "data": {
      "image/png": "[encoded data removed]",
      "text/plain": [
       "<Figure size 432x288 with 1 Axes>"
      ]
     },
     "metadata": {
      "needs_background": "light"
     },
     "output_type": "display_data"
    },
    {
     "name": "stdout",
     "output_type": "stream",
     "text": [
      " frog  deer truck   dog   dog  frog   car  deer\n"
     ]
    },
    {
     "data": {
      "text/plain": [
       "torch.Size([8, 3, 32, 32])"
      ]
     },
     "execution_count": 4,
     "metadata": {},
     "output_type": "execute_result"
    }
   ],
   "source": [
    "import matplotlib.pyplot as plt\n",
    "import numpy as np\n",
    "\n",
    "# functions to show an image\n",
    "\n",
    "\n",
    "def imshow(img):\n",
    "    img = img / 2 + 0.5     # unnormalize\n",
    "    npimg = img.numpy()\n",
    "    plt.imshow(np.transpose(npimg, (1, 2, 0)))\n",
    "    plt.show()\n",
    "\n",
    "\n",
    "# get some random training images\n",
    "dataiter = iter(trainloader)\n",
    "images, labels = dataiter.next()\n",
    "\n",
    "# show images\n",
    "imshow(torchvision.utils.make_grid(images))\n",
    "# print labels\n",
    "print(' '.join('%5s' % classes[labels[j]] for j in range(8)))\n",
    "images.shape"
   ]
  },
  {
   "cell_type": "code",
   "execution_count": 5,
   "metadata": {},
   "outputs": [
    {
     "data": {
      "text/plain": [
       "tensor([6, 4, 9, 5, 5, 6, 1, 4])"
      ]
     },
     "execution_count": 5,
     "metadata": {},
     "output_type": "execute_result"
    }
   ],
   "source": [
    "labels"
   ]
  },
  {
   "cell_type": "code",
   "execution_count": 6,
   "metadata": {},
   "outputs": [],
   "source": [
    "import torch.nn as nn\n",
    "import torch.nn.functional as F\n",
    "\n",
    "class Net(nn.Module):\n",
    "    def __init__(self):\n",
    "        super(Net, self).__init__()\n",
    "        self.conv1 = nn.Conv2d(3, 6, 5)\n",
    "        self.pool = nn.MaxPool2d(2, 2)\n",
    "        self.conv2 = nn.Conv2d(6, 16, 5)\n",
    "        self.fc1 = nn.Linear(16 * 5 * 5, 120)\n",
    "        self.fc2 = nn.Linear(120, 84)\n",
    "        self.fc3 = nn.Linear(84, 10)\n",
    "\n",
    "    def forward(self, x):\n",
    "        x = self.pool(F.relu(self.conv1(x)))\n",
    "        x = self.pool(F.relu(self.conv2(x)))\n",
    "        x = x.view(-1, 16 * 5 * 5)\n",
    "        x = F.relu(self.fc1(x))\n",
    "        x = F.relu(self.fc2(x))\n",
    "        x = self.fc3(x)\n",
    "        return x\n",
    "net = Net()"
   ]
  },
  {
   "cell_type": "code",
   "execution_count": 7,
   "metadata": {},
   "outputs": [],
   "source": [
    "import torch.optim as optim\n",
    "\n",
    "criterion = nn.CrossEntropyLoss()\n",
    "optimizer = optim.Adam(net.parameters())"
   ]
  },
  {
   "cell_type": "code",
   "execution_count": 8,
   "metadata": {},
   "outputs": [
    {
     "name": "stdout",
     "output_type": "stream",
     "text": [
      "[1,  2000] loss: 1.724\n",
      "[1,  4000] loss: 1.460\n",
      "[1,  6000] loss: 1.388\n",
      "[2,  2000] loss: 1.291\n",
      "[2,  4000] loss: 1.246\n",
      "[2,  6000] loss: 1.222\n",
      "[3,  2000] loss: 1.145\n",
      "[3,  4000] loss: 1.130\n",
      "[3,  6000] loss: 1.121\n",
      "[4,  2000] loss: 1.049\n",
      "[4,  4000] loss: 1.063\n",
      "[4,  6000] loss: 1.053\n",
      "[5,  2000] loss: 0.972\n",
      "[5,  4000] loss: 0.995\n",
      "[5,  6000] loss: 1.014\n",
      "[6,  2000] loss: 0.938\n",
      "[6,  4000] loss: 0.955\n",
      "[6,  6000] loss: 0.951\n",
      "[7,  2000] loss: 0.882\n",
      "[7,  4000] loss: 0.920\n",
      "[7,  6000] loss: 0.931\n",
      "[8,  2000] loss: 0.862\n",
      "[8,  4000] loss: 0.887\n",
      "[8,  6000] loss: 0.900\n",
      "[9,  2000] loss: 0.825\n",
      "[9,  4000] loss: 0.866\n",
      "[9,  6000] loss: 0.859\n",
      "[10,  2000] loss: 0.803\n",
      "[10,  4000] loss: 0.834\n",
      "[10,  6000] loss: 0.840\n",
      "[11,  2000] loss: 0.768\n",
      "[11,  4000] loss: 0.821\n",
      "[11,  6000] loss: 0.823\n",
      "[12,  2000] loss: 0.740\n",
      "[12,  4000] loss: 0.787\n",
      "[12,  6000] loss: 0.808\n",
      "[13,  2000] loss: 0.725\n",
      "[13,  4000] loss: 0.765\n",
      "[13,  6000] loss: 0.786\n",
      "[14,  2000] loss: 0.707\n",
      "[14,  4000] loss: 0.737\n",
      "[14,  6000] loss: 0.774\n",
      "[15,  2000] loss: 0.692\n",
      "[15,  4000] loss: 0.727\n",
      "[15,  6000] loss: 0.747\n",
      "[16,  2000] loss: 0.669\n",
      "[16,  4000] loss: 0.721\n",
      "[16,  6000] loss: 0.733\n",
      "[17,  2000] loss: 0.650\n",
      "[17,  4000] loss: 0.697\n",
      "[17,  6000] loss: 0.720\n",
      "[18,  2000] loss: 0.650\n",
      "[18,  4000] loss: 0.680\n",
      "[18,  6000] loss: 0.714\n",
      "[19,  2000] loss: 0.628\n",
      "[19,  4000] loss: 0.675\n",
      "[19,  6000] loss: 0.695\n",
      "[20,  2000] loss: 0.625\n",
      "[20,  4000] loss: 0.654\n",
      "[20,  6000] loss: 0.677\n",
      "[21,  2000] loss: 0.596\n",
      "[21,  4000] loss: 0.634\n",
      "[21,  6000] loss: 0.675\n",
      "[22,  2000] loss: 0.592\n",
      "[22,  4000] loss: 0.620\n",
      "[22,  6000] loss: 0.666\n",
      "[23,  2000] loss: 0.592\n",
      "[23,  4000] loss: 0.619\n",
      "[23,  6000] loss: 0.647\n",
      "[24,  2000] loss: 0.567\n",
      "[24,  4000] loss: 0.623\n",
      "[24,  6000] loss: 0.627\n",
      "[25,  2000] loss: 0.560\n",
      "[25,  4000] loss: 0.604\n",
      "[25,  6000] loss: 0.624\n",
      "[26,  2000] loss: 0.555\n",
      "[26,  4000] loss: 0.594\n",
      "[26,  6000] loss: 0.621\n",
      "[27,  2000] loss: 0.556\n",
      "[27,  4000] loss: 0.585\n",
      "[27,  6000] loss: 0.614\n",
      "[28,  2000] loss: 0.542\n",
      "[28,  4000] loss: 0.577\n",
      "[28,  6000] loss: 0.602\n",
      "[29,  2000] loss: 0.537\n",
      "[29,  4000] loss: 0.570\n",
      "[29,  6000] loss: 0.614\n",
      "[30,  2000] loss: 0.512\n",
      "[30,  4000] loss: 0.579\n",
      "[30,  6000] loss: 0.592\n",
      "[31,  2000] loss: 0.512\n",
      "[31,  4000] loss: 0.569\n",
      "[31,  6000] loss: 0.580\n",
      "[32,  2000] loss: 0.503\n",
      "[32,  4000] loss: 0.558\n",
      "[32,  6000] loss: 0.584\n",
      "[33,  2000] loss: 0.502\n",
      "[33,  4000] loss: 0.545\n",
      "[33,  6000] loss: 0.566\n",
      "[34,  2000] loss: 0.495\n",
      "[34,  4000] loss: 0.542\n",
      "[34,  6000] loss: 0.577\n",
      "[35,  2000] loss: 0.481\n",
      "[35,  4000] loss: 0.551\n",
      "[35,  6000] loss: 0.558\n",
      "[36,  2000] loss: 0.486\n",
      "[36,  4000] loss: 0.541\n",
      "[36,  6000] loss: 0.559\n",
      "[37,  2000] loss: 0.473\n",
      "[37,  4000] loss: 0.534\n",
      "[37,  6000] loss: 0.562\n",
      "[38,  2000] loss: 0.492\n",
      "[38,  4000] loss: 0.502\n",
      "[38,  6000] loss: 0.547\n",
      "[39,  2000] loss: 0.467\n",
      "[39,  4000] loss: 0.509\n",
      "[39,  6000] loss: 0.554\n",
      "[40,  2000] loss: 0.460\n",
      "[40,  4000] loss: 0.525\n",
      "[40,  6000] loss: 0.539\n",
      "[41,  2000] loss: 0.467\n",
      "[41,  4000] loss: 0.507\n",
      "[41,  6000] loss: 0.532\n",
      "[42,  2000] loss: 0.460\n",
      "[42,  4000] loss: 0.516\n",
      "[42,  6000] loss: 0.533\n",
      "[43,  2000] loss: 0.445\n",
      "[43,  4000] loss: 0.492\n",
      "[43,  6000] loss: 0.529\n",
      "[44,  2000] loss: 0.463\n",
      "[44,  4000] loss: 0.508\n",
      "[44,  6000] loss: 0.508\n",
      "[45,  2000] loss: 0.433\n",
      "[45,  4000] loss: 0.504\n",
      "[45,  6000] loss: 0.527\n",
      "[46,  2000] loss: 0.433\n",
      "[46,  4000] loss: 0.502\n",
      "[46,  6000] loss: 0.514\n",
      "[47,  2000] loss: 0.438\n",
      "[47,  4000] loss: 0.481\n",
      "[47,  6000] loss: 0.509\n",
      "[48,  2000] loss: 0.451\n",
      "[48,  4000] loss: 0.477\n",
      "[48,  6000] loss: 0.503\n",
      "[49,  2000] loss: 0.427\n",
      "[49,  4000] loss: 0.476\n",
      "[49,  6000] loss: 0.503\n",
      "[50,  2000] loss: 0.444\n",
      "[50,  4000] loss: 0.476\n",
      "[50,  6000] loss: 0.495\n",
      "Finished Training\n"
     ]
    }
   ],
   "source": [
    "for epoch in range(50):  # loop over the dataset multiple times\n",
    "\n",
    "    running_loss = 0.0\n",
    "    for i, data in enumerate(trainloader, 0):\n",
    "        # get the inputs; data is a list of [inputs, labels]\n",
    "        inputs, labels = data\n",
    "        # zero the parameter gradients\n",
    "        optimizer.zero_grad()\n",
    "\n",
    "        # forward + backward + optimize\n",
    "        outputs = net(inputs)\n",
    "        loss = criterion(outputs, labels)\n",
    "        loss.backward()\n",
    "        optimizer.step()\n",
    "\n",
    "        # print statistics\n",
    "        running_loss += loss.item()\n",
    "        if i % 2000 == 1999:    # print every 2000 mini-batches\n",
    "            print('[%d, %5d] loss: %.3f' %\n",
    "                  (epoch + 1, i + 1, running_loss / 2000))\n",
    "            running_loss = 0.0\n",
    "\n",
    "print('Finished Training')"
   ]
  },
  {
   "cell_type": "code",
   "execution_count": 9,
   "metadata": {},
   "outputs": [],
   "source": [
    "PATH = './cifar_net.pth'\n",
    "torch.save(net.state_dict(), PATH)"
   ]
  },
  {
   "cell_type": "code",
   "execution_count": 10,
   "metadata": {},
   "outputs": [
    {
     "data": {
      "image/png": "[encoded data removed]",
      "text/plain": [
       "<Figure size 432x288 with 1 Axes>"
      ]
     },
     "metadata": {
      "needs_background": "light"
     },
     "output_type": "display_data"
    },
    {
     "name": "stdout",
     "output_type": "stream",
     "text": [
      "GroundTruth:    cat  ship  ship plane  frog  frog   car  frog\n",
      "Predicted:  truck   car  ship plane  deer  frog  bird  frog\n"
     ]
    }
   ],
   "source": [
    "dataiter = iter(testloader)\n",
    "images, labels = dataiter.next()\n",
    "\n",
    "# print images\n",
    "imshow(torchvision.utils.make_grid(images))\n",
    "print('GroundTruth: ', ' '.join('%5s' % classes[labels[j]] for j in range(8)))\n",
    "\n",
    "net = Net()\n",
    "net.load_state_dict(torch.load(PATH))\n",
    "outputs = net(images)\n",
    "\n",
    "_, predicted = torch.max(outputs, 1)\n",
    "\n",
    "print('Predicted: ', ' '.join('%5s' % classes[predicted[j]]\n",
    "                              for j in range(8)))"
   ]
  },
  {
   "cell_type": "code",
   "execution_count": 11,
   "metadata": {},
   "outputs": [
    {
     "name": "stdout",
     "output_type": "stream",
     "text": [
      "Accuracy of the network on the 10000 test images: 59 %\n"
     ]
    }
   ],
   "source": [
    "correct = 0\n",
    "total = 0\n",
    "with torch.no_grad():\n",
    "    for data in testloader:\n",
    "        images, labels = data\n",
    "        outputs = net(images)\n",
    "        _, predicted = torch.max(outputs.data, 1)\n",
    "        total += labels.size(0)\n",
    "        correct += (predicted == labels).sum().item()\n",
    "\n",
    "print('Accuracy of the network on the 10000 test images: %d %%' % (\n",
    "    100 * correct / total))"
   ]
  },
  {
   "cell_type": "code",
   "execution_count": 12,
   "metadata": {},
   "outputs": [
    {
     "name": "stdout",
     "output_type": "stream",
     "text": [
      "Accuracy of plane : 58 %\n",
      "Accuracy of   car : 73 %\n",
      "Accuracy of  bird : 41 %\n",
      "Accuracy of   cat : 46 %\n",
      "Accuracy of  deer : 54 %\n",
      "Accuracy of   dog : 42 %\n",
      "Accuracy of  frog : 67 %\n",
      "Accuracy of horse : 62 %\n",
      "Accuracy of  ship : 71 %\n",
      "Accuracy of truck : 71 %\n"
     ]
    }
   ],
   "source": [
    "class_correct = list(0. for i in range(10))\n",
    "class_total = list(0. for i in range(10))\n",
    "with torch.no_grad():\n",
    "    for data in testloader:\n",
    "        images, labels = data\n",
    "        outputs = net(images)\n",
    "        _, predicted = torch.max(outputs, 1)\n",
    "        c = (predicted == labels).squeeze()\n",
    "        for i in range(4):\n",
    "            label = labels[i]\n",
    "            class_correct[label] += c[i].item()\n",
    "            class_total[label] += 1\n",
    "\n",
    "\n",
    "for i in range(10):\n",
    "    print('Accuracy of %5s : %2d %%' % (\n",
    "        classes[i], 100 * class_correct[i] / class_total[i]))"
   ]
  }
 ],
 "metadata": {
  "kernelspec": {
   "display_name": "Python 3",
   "language": "python",
   "name": "python3"
  },
  "language_info": {
   "codemirror_mode": {
    "name": "ipython",
    "version": 3
   },
   "file_extension": ".py",
   "mimetype": "text/x-python",
   "name": "python",
   "nbconvert_exporter": "python",
   "pygments_lexer": "ipython3",
   "version": "3.7.5"
  }
 },
 "nbformat": 4,
 "nbformat_minor": 2
}
